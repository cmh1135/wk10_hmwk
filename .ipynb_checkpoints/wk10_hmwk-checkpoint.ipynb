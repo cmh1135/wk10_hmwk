{
 "cells": [
  {
   "cell_type": "markdown",
   "id": "2fe8cf85",
   "metadata": {},
   "source": [
    "## 1.\tExplain the dot product and cross product in your own words in markdown. Use LaTeX to properly show the equations."
   ]
  },
  {
   "cell_type": "markdown",
   "id": "fbc497d6",
   "metadata": {},
   "source": [
    "Dot product is a operation of getting the product of two equal-length vectors, returning a single number. Dot Product formula = $$\\vec{a} \\cdot \\vec{b}=\\left |  \\vec{a} \\right |\\left | \\vec{b} \\right |\\cos\\theta $$\n",
    "\n",
    "Cross product is a operation between two equal-length vectors that measures how much the vectors point in different directions. Instead of returning a number it returns a matrix. Cross Product formula = $$\\vec{a}\\times\\vec{b}$$"
   ]
  },
  {
   "cell_type": "markdown",
   "id": "6d6ebaa9",
   "metadata": {},
   "source": [
    "## 2. Write a function angle_between(v1, v2) where v1 and v2 are two vectors that are passed in, and the angle between them is calculated. "
   ]
  },
  {
   "cell_type": "code",
   "execution_count": 33,
   "id": "7185934b",
   "metadata": {},
   "outputs": [],
   "source": [
    "import numpy as np\n",
    "import numpy.linalg as la\n",
    "from scipy.stats import norm\n",
    "import scipy.optimize\n",
    "from sklearn.datasets import load_breast_cancer\n",
    "import pandas as pd\n",
    "import matplotlib.pyplot as plt\n",
    "import seaborn as sns"
   ]
  },
  {
   "cell_type": "code",
   "execution_count": 81,
   "id": "c024c742",
   "metadata": {},
   "outputs": [
    {
     "data": {
      "text/plain": [
       "(0.4423742229767446, 25.346175941946676)"
      ]
     },
     "execution_count": 81,
     "metadata": {},
     "output_type": "execute_result"
    }
   ],
   "source": [
    "def angle_between (v1,v2):\n",
    "    v1=np.ravel(v1)  #creates 1D array otherwise an array not a scalar product will not be genrated \n",
    "    v2=np.ravel(v2)\n",
    "    inner = np.inner(v1, v2) #calcutes the inner poducts\n",
    "    norms = la.norm(v1) * la.norm(v2) # calcultes len / magnitude of vector \n",
    "    angle = inner / norms # dot product calculation\n",
    "    rad = np.arccos(angle) # inverse cos, np clip limits the array \n",
    "    deg = np.rad2deg(rad) # coverts radians to degrees \n",
    "    return (rad, deg) \n",
    "\n",
    "v1=np.array([[-1,4,3]])\n",
    "v2=np.array([[0,8,2]])\n",
    "angle_between(v1,v2)"
   ]
  },
  {
   "cell_type": "markdown",
   "id": "312281e8",
   "metadata": {},
   "source": [
    "## 3.\tWrite a function called row_dot(A, r1, r2) which takes an input matrix called A, one row number identified by r1, and another row number identified by r2 and returns the dot product of the r1 and r2 rows (indexing starts at 0)"
   ]
  },
  {
   "cell_type": "code",
   "execution_count": 117,
   "id": "4dfca5c6",
   "metadata": {},
   "outputs": [
    {
     "name": "stdout",
     "output_type": "stream",
     "text": [
      "[[0 0 1]\n",
      " [0 0 1]\n",
      " [1 0 0]]\n",
      "[[0 0 1]\n",
      " [0 0 1]\n",
      " [0 0 1]]\n"
     ]
    }
   ],
   "source": [
    "def row_dot(A, r1, r2):\n",
    "    return np.dot(A[r1],A[r2])\n",
    "\n",
    "\n",
    "C=np.array([[0,0,1],[1,0,0], [0,1,0]]) \n",
    "print(row_dot(C,C[0],C[1]))\n",
    "print(row_dot(C,C[1],C[2]))"
   ]
  },
  {
   "cell_type": "markdown",
   "id": "6813b280",
   "metadata": {},
   "source": [
    "##  4.\tWrite a function matrix_division(m1, m2) that takes in two matrices, m1 and m2, and returns the result. What is the trick with matrix division?"
   ]
  },
  {
   "cell_type": "markdown",
   "id": "bc02dffd",
   "metadata": {},
   "source": [
    "Matrix division does not exist. We need to multiply one matrix by the inverse of the other"
   ]
  },
  {
   "cell_type": "code",
   "execution_count": 75,
   "id": "9c604f83",
   "metadata": {},
   "outputs": [
    {
     "data": {
      "text/plain": [
       "array([[ 0.78947368, -1.22105263,  0.35789474, -0.26315789],\n",
       "       [-0.03508772, -0.0877193 , -0.02631579,  1.12280702],\n",
       "       [ 1.10526316,  0.98947368, -0.11052632, -2.10526316],\n",
       "       [-1.54385965,  0.62280702,  0.45438596,  0.49122807]])"
      ]
     },
     "execution_count": 75,
     "metadata": {},
     "output_type": "execute_result"
    }
   ],
   "source": [
    "def matrix_division (m1, m2):\n",
    "    m2_n=la.inv(m2) #inverse of the matrix\n",
    "    result= (m1*m2_n) #multiply m1 by inverse of m2\n",
    "    return result \n",
    "\n",
    "\n",
    "#matrix must be square to work\n",
    "D=([[5,8,4,1], [1,2,3,4],    \n",
    "   [7,4,1,8], [11,5,7,4]])\n",
    "E=([[5,8,4,1], [1,2,3,4],\n",
    "   [7,4,1,8], [1,5,1,1]])\n",
    "matrix_division(D,E)"
   ]
  },
  {
   "cell_type": "code",
   "execution_count": 73,
   "id": "dfd29826",
   "metadata": {},
   "outputs": [],
   "source": [
    "#Another method from study group using dot product \n",
    "\n",
    "def matrix_division (m1, m2):\n",
    "    m2_n=np.array([])\n",
    "    m2_n=la.inv(m2) \n",
    "    result= np.dot(m1,m2_n) #dot product of m1 inverse of m2\n",
    "    return result \n"
   ]
  },
  {
   "cell_type": "code",
   "execution_count": 77,
   "id": "0e67f113",
   "metadata": {},
   "outputs": [
    {
     "data": {
      "text/plain": [
       "array([[ 0.78947368, -1.22105263,  0.35789474, -0.26315789],\n",
       "       [-0.03508772, -0.0877193 , -0.02631579,  1.12280702],\n",
       "       [ 1.10526316,  0.98947368, -0.11052632, -2.10526316],\n",
       "       [-1.54385965,  0.62280702,  0.45438596,  0.49122807]])"
      ]
     },
     "execution_count": 77,
     "metadata": {},
     "output_type": "execute_result"
    }
   ],
   "source": [
    "F=([[5,8,4,1], [1,2,3,4],    \n",
    "   [7,4,1,8], [11,5,7,4]])\n",
    "G=([[5,8,4,1], [1,2,3,4],\n",
    "   [7,4,1,8], [1,5,1,1]])\n",
    "matrix_division(F,G)"
   ]
  },
  {
   "cell_type": "markdown",
   "id": "4f7a60a8",
   "metadata": {},
   "source": [
    "## 5.\tWrite a function is_orthogonal(v1,v2, tol), where v1 and v2 are column vectors of the same size and tol is a scalar value strictly larger than 0. The output should be 1 if the angle between v1 and v2 is within tol of π/2; that is, |π/2−θ|<tol, and 0 otherwise. "
   ]
  },
  {
   "cell_type": "code",
   "execution_count": 110,
   "id": "f0790554",
   "metadata": {},
   "outputs": [],
   "source": [
    "def is_orthogonal(v1,v2,tol):\n",
    "    v1=np.ravel(v1)  #creates 1D array otherwise an array not a scalar product will not be genrated \n",
    "    v2=np.ravel(v2)\n",
    "    inner = np.inner(v1, v2) #calcutes the inner poducts\n",
    "    norms = la.norm(v1) * la.norm(v2) # calcultes len / magnitude of vector \n",
    "    angle = inner / norms # dot product calculation\n",
    "    rad = np.arccos(angle) # inverse cos, np clip limits the array \n",
    "    if (abs(np.pi/2-rad)<=tol).any(): #absolute value π/2−θ tol=tolerance is a stop \n",
    "        return 1\n",
    "    else:\n",
    "        return 0"
   ]
  },
  {
   "cell_type": "code",
   "execution_count": 109,
   "id": "dc4ec576",
   "metadata": {},
   "outputs": [
    {
     "name": "stdout",
     "output_type": "stream",
     "text": [
      "output 1: 1\n",
      "output 2: 0\n",
      "output 3: 0\n",
      "output 4: 1\n"
     ]
    }
   ],
   "source": [
    "#Sample outputs\n",
    "a = np.array([[1], [0.001]])\n",
    "b = np.array([[0.001], [1]])\n",
    "# output: 1\n",
    "print(\"output 1:\", is_orthogonal(a,b, 0.01))\n",
    "\n",
    "# output: 0\n",
    "print(\"output 2:\",is_orthogonal(a,b, 0.001))\n",
    "\n",
    "# output: 0\n",
    "a = np.array([[1], [0.001]])\n",
    "b = np.array([[1], [1]])\n",
    "print(\"output 3:\",is_orthogonal(a,b, 0.01))\n",
    "\n",
    "# output: 1\n",
    "a = np.array([[1], [1]])\n",
    "b = np.array([[-1], [1]])\n",
    "print(\"output 4:\",is_orthogonal(a,b, 1e-10))"
   ]
  },
  {
   "cell_type": "markdown",
   "id": "2b48fff6",
   "metadata": {},
   "source": [
    "##  6.\tCreate a class called vector_calculator. __init__ should take self, vector1, and vector2. It should have two methods inside of it that are from problems 1 and 4 above (angle_between and is_orthogonal). Make sure tol is defaulted but can be overwritten. Make sure you can call angle_between and is_orthogonal through the class and return the correct results as in problems 1 and 4. "
   ]
  },
  {
   "cell_type": "code",
   "execution_count": 14,
   "id": "5919bd6b",
   "metadata": {},
   "outputs": [],
   "source": [
    "def __init__(self,vector1,vector2):\n",
    "    self.v1=np.ravel(vector1)\n",
    "    self.v2=np.ravel(vector2)\n",
    "\n",
    "def angle_between (v1,v2):\n",
    "    v1=np.ravel(v1)  \n",
    "    v2=np.ravel(v2)\n",
    "    inner = np.inner(v1, v2) \n",
    "    norms = la.norm(v1) * la.norm(v2) \n",
    "    angle = inner / norms \n",
    "    rad = np.arccos(angle) \n",
    "    return (rad) \n",
    "\n",
    "def is_orthogonal(v1,v2,tol):\n",
    "    v1=np.ravel(v1)   \n",
    "    v2=np.ravel(v2)\n",
    "    inner = np.inner(v1, v2) \n",
    "    norms = la.norm(v1) * la.norm(v2) \n",
    "    angle = inner / norms \n",
    "    rad = np.arccos(angle) \n",
    "    if (abs(np.pi/2-rad)<=tol).any(): \n",
    "        return 1\n",
    "    else:\n",
    "        return 0"
   ]
  },
  {
   "cell_type": "code",
   "execution_count": 15,
   "id": "9ce096ed",
   "metadata": {},
   "outputs": [
    {
     "name": "stdout",
     "output_type": "stream",
     "text": [
      "0.4423742229767446\n",
      "output a: 1\n"
     ]
    }
   ],
   "source": [
    "v3=np.array([[-1,4,3]])\n",
    "v4=np.array([[0,8,2]])\n",
    "print(angle_between(v3,v4))\n",
    "a = np.array([[1], [0.001]])\n",
    "b = np.array([[0.001], [1]])\n",
    "# output: 1\n",
    "print(\"output a:\", is_orthogonal(a,b, 0.01))"
   ]
  },
  {
   "cell_type": "markdown",
   "id": "86d9015d",
   "metadata": {},
   "source": [
    "##  7.\tShow a graphical representation of the breast cancer data outlined in this reading https://www.datacamp.com/community/tutorials/principal-component-analysis-in-python Be sure to describe what PCA is and incorporate the principal components in your plot. This is just exploratory, so there are many correct answers!"
   ]
  },
  {
   "cell_type": "markdown",
   "id": "a7c68199",
   "metadata": {},
   "source": [
    "Principal component analysis reduces the dimensions of a data set to allow for faster processing of algorithms, and  plotting in 2-3d for better visualizations and easier data exploration. "
   ]
  },
  {
   "cell_type": "code",
   "execution_count": 3,
   "id": "22f2ca84",
   "metadata": {},
   "outputs": [],
   "source": [
    "breast = load_breast_cancer()\n",
    "breast_data = breast.data\n",
    "breast_df.info"
   ]
  },
  {
   "cell_type": "code",
   "execution_count": 54,
   "id": "a64cb1c5",
   "metadata": {},
   "outputs": [],
   "source": [
    "breast_labels = breast.target\n",
    "labels = np.reshape(breast_labels,(569,1))\n",
    "final_breast_data = np.concatenate([breast_data,labels],axis=1)\n",
    "breast_df = pd.DataFrame(final_breast_data)\n",
    "features = breast.feature_names\n",
    "features_labels = np.append(features,'label')\n",
    "breast_df.columns = features_labels\n",
    "breast_df['label'].replace(0, 'Benign',inplace=True)\n",
    "breast_df['label'].replace(1, 'Malignant',inplace=True)"
   ]
  },
  {
   "cell_type": "code",
   "execution_count": 55,
   "id": "b91afbc6",
   "metadata": {},
   "outputs": [],
   "source": [
    "from sklearn.preprocessing import StandardScaler\n",
    "b = breast_df.loc[:, features].values \n",
    "b = StandardScaler().fit_transform(b) # normalizing the features\n",
    "feat_cols = ['feature'+str(i) for i in range(b.shape[1])]\n",
    "from sklearn.decomposition import PCA\n",
    "pca_breast = PCA(n_components=3)\n",
    "principalComponents_breast = pca_breast.fit_transform(b)\n",
    "normalised_breast = pd.DataFrame(b,columns=feat_cols)\n",
    "pcb = pd.DataFrame(data = principalComponents_breast, columns = ['pca1', 'pca2', 'pca3'])"
   ]
  },
  {
   "cell_type": "code",
   "execution_count": 63,
   "id": "c91d8cfe",
   "metadata": {},
   "outputs": [
    {
     "data": {
      "text/plain": [
       "<function matplotlib.pyplot.show(close=None, block=None)>"
      ]
     },
     "execution_count": 63,
     "metadata": {},
     "output_type": "execute_result"
    },
    {
     "data": {
      "image/png": "[encoded data removed]",
      "text/plain": [
       "<Figure size 432x288 with 1 Axes>"
      ]
     },
     "metadata": {
      "needs_background": "light"
     },
     "output_type": "display_data"
    }
   ],
   "source": [
    "#ax = plt.figure(figsize=(12,8))\n",
    "sns.scatterplot(x=pcb['pca1'], y=pcb['pca3'], hue=breast_df['worst texture'])\n",
    "plt.xlabel('First Principal Component')\n",
    "plt.ylabel('Third Principal Component')\n",
    "plt.title(\"Breast Cancer Data Principal Component Analysis\")\n",
    "plt.show\n"
   ]
  },
  {
   "cell_type": "code",
   "execution_count": null,
   "id": "2e67e3e5",
   "metadata": {},
   "outputs": [],
   "source": []
  }
 ],
 "metadata": {
  "kernelspec": {
   "display_name": "Python 3 (ipykernel)",
   "language": "python",
   "name": "python3"
  },
  "language_info": {
   "codemirror_mode": {
    "name": "ipython",
    "version": 3
   },
   "file_extension": ".py",
   "mimetype": "text/x-python",
   "name": "python",
   "nbconvert_exporter": "python",
   "pygments_lexer": "ipython3",
   "version": "3.9.7"
  }
 },
 "nbformat": 4,
 "nbformat_minor": 5
}
